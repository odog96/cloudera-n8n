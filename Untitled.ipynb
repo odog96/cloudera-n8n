{
 "cells": [
  {
   "cell_type": "code",
   "execution_count": 2,
   "id": "e3a818ae-ab3f-4940-bed1-3c073efb49b4",
   "metadata": {},
   "outputs": [],
   "source": [
    "import cmlapi\n",
    "import os"
   ]
  },
  {
   "cell_type": "code",
   "execution_count": 3,
   "id": "ebdcbaf5-df31-410b-ba6c-60767aa674f0",
   "metadata": {},
   "outputs": [
    {
     "name": "stdout",
     "output_type": "stream",
     "text": [
      "Job: goodjob, ID: on1w-sh2g-2blj-u86c\n",
      "Job: badjob, ID: kj1m-r7tc-5g0d-eke9\n",
      "Job: slowjob, ID: zpgk-6st6-tiha-hhnx\n"
     ]
    }
   ],
   "source": [
    "# Setup client\n",
    "client = cmlapi.default_client()\n",
    "\n",
    "# Test listJobs for your project\n",
    "project_id = os.environ['CDSW_PROJECT_ID']\n",
    "jobs = client.list_jobs(project_id=project_id)\n",
    "\n",
    "for job in jobs.jobs:\n",
    "    print(f\"Job: {job.name}, ID: {job.id}\")\n",
    "    # Get latest run\n",
    "    runs = client.list_job_runs(project_id, job.id, page_size=1)\n",
    "    if runs.job_runs:\n",
    "        latest = runs.job_runs[0]\n",
    "        print(f\"  Latest run status: {latest.status}\")"
   ]
  },
  {
   "cell_type": "code",
   "execution_count": 4,
   "id": "16d81e14-6be1-4f3e-b7d3-60957fab2f8c",
   "metadata": {},
   "outputs": [
    {
     "name": "stdout",
     "output_type": "stream",
     "text": [
      "56ux-3674-1e1k-32bk\n"
     ]
    }
   ],
   "source": [
    "print(project_id)"
   ]
  },
  {
   "cell_type": "code",
   "execution_count": null,
   "id": "4b388f79-43dd-4a1e-a9a7-127902f635b5",
   "metadata": {},
   "outputs": [],
   "source": []
  },
  {
   "cell_type": "code",
   "execution_count": 1,
   "id": "4c7112d7-e483-4fbe-83b4-fcee3f7fd0b2",
   "metadata": {},
   "outputs": [
    {
     "name": "stderr",
     "output_type": "stream",
     "text": [
      "Setting spark.hadoop.yarn.resourcemanager.principal to ozarate\n"
     ]
    },
    {
     "name": "stdout",
     "output_type": "stream",
     "text": [
      "Spark Application Id:spark-application-1760651293861\n"
     ]
    },
    {
     "name": "stderr",
     "output_type": "stream",
     "text": [
      "Hive Session ID = 490b9e52-b20e-4602-aa90-2b914c50b19d\n"
     ]
    },
    {
     "name": "stdout",
     "output_type": "stream",
     "text": [
      "+------------------+\n",
      "|         namespace|\n",
      "+------------------+\n",
      "|   amakey_car_data|\n",
      "|           default|\n",
      "|           defense|\n",
      "|           demo_db|\n",
      "|   grupoice_demodb|\n",
      "|information_schema|\n",
      "|    jquiros_demodb|\n",
      "|            poc_db|\n",
      "|       poc_iceberg|\n",
      "|      poc_impaladb|\n",
      "|         poc_stage|\n",
      "|  railway_services|\n",
      "|     retail_amakey|\n",
      "|               sys|\n",
      "|    telcel_yb_cldr|\n",
      "|             telco|\n",
      "|          test_poc|\n",
      "|        waltermart|\n",
      "+------------------+\n",
      "\n"
     ]
    }
   ],
   "source": [
    "import cml.data_v1 as cmldata\n",
    "\n",
    "# Sample in-code customization of spark configurations\n",
    "#from pyspark import SparkContext\n",
    "#SparkContext.setSystemProperty('spark.executor.cores', '1')\n",
    "#SparkContext.setSystemProperty('spark.executor.memory', '2g')\n",
    "\n",
    "CONNECTION_NAME = \"se-aws-edl\"\n",
    "conn = cmldata.get_connection(CONNECTION_NAME)\n",
    "spark = conn.get_spark_session()\n",
    "\n",
    "# Sample usage to run query through spark\n",
    "EXAMPLE_SQL_QUERY = \"show databases\"\n",
    "spark.sql(EXAMPLE_SQL_QUERY).show()\n"
   ]
  },
  {
   "cell_type": "code",
   "execution_count": null,
   "id": "93629805-6b76-4928-8a98-0ec719892e6f",
   "metadata": {},
   "outputs": [],
   "source": []
  }
 ],
 "metadata": {
  "kernelspec": {
   "display_name": "Python 3 (ipykernel)",
   "language": "python",
   "name": "python3"
  },
  "language_info": {
   "codemirror_mode": {
    "name": "ipython",
    "version": 3
   },
   "file_extension": ".py",
   "mimetype": "text/x-python",
   "name": "python",
   "nbconvert_exporter": "python",
   "pygments_lexer": "ipython3",
   "version": "3.10.17"
  }
 },
 "nbformat": 4,
 "nbformat_minor": 5
}
